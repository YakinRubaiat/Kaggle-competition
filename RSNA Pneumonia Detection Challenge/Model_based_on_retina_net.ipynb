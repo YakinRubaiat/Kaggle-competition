{
  "cells": [
    {
      "metadata": {
        "trusted": true,
        "_uuid": "3cbfb24c526c7646df10657291cd850f705f135e"
      },
      "cell_type": "code",
      "source": "import pandas as pd \nimport numpy as np\nimport scipy.misc\nimport pydicom \nimport glob\nimport sys\nimport os\nimport pandas as pd \nimport base64\nfrom IPython.display import HTML",
      "execution_count": null,
      "outputs": []
    },
    {
      "metadata": {
        "trusted": true,
        "_uuid": "59a60318718a12d2a2bb841ac6c3b5d011fe32ac"
      },
      "cell_type": "code",
      "source": "from scipy.ndimage.interpolation import zoom",
      "execution_count": null,
      "outputs": []
    },
    {
      "metadata": {
        "_uuid": "8f2839f25d086af736a60e9eeb907d3b93b6e0e5",
        "_cell_guid": "b1076dfc-b9ad-4769-8c92-a6c4dae69d19",
        "trusted": true
      },
      "cell_type": "code",
      "source": "!git clone https://github.com/fizyr/keras-retinanet\nos.chdir(\"keras-retinanet\") \n!python setup.py build_ext --inplace",
      "execution_count": null,
      "outputs": []
    },
    {
      "metadata": {
        "_cell_guid": "79c7e3d0-c299-4dcb-8224-4455121ee9b0",
        "_uuid": "d629ff2d2480ee46fbb7e2d37f6b5fab8052498a",
        "trusted": true
      },
      "cell_type": "code",
      "source": "DATA_DIR = \"/kaggle/input/\"\nROOT_DIR = \"/kaggle/working/\"",
      "execution_count": null,
      "outputs": []
    },
    {
      "metadata": {
        "trusted": true,
        "_uuid": "b6507bf63555041be8b99fc06e71ad59ec52f55f"
      },
      "cell_type": "code",
      "source": "train_pngs_dir = os.path.join(DATA_DIR, \"rsna-pneu-train-png/stage_1_train_pngs/orig/\")\ntest_dicoms_dir  = os.path.join(DATA_DIR, \"rsna-pneumonia-detection-challenge/stage_1_test_images/\") ",
      "execution_count": null,
      "outputs": []
    },
    {
      "metadata": {
        "trusted": true,
        "_uuid": "c11efca7a4483f071bd62bdc81b337702df71586"
      },
      "cell_type": "code",
      "source": "bbox_info = pd.read_csv(os.path.join(DATA_DIR, \"rsna-pneumonia-detection-challenge/stage_1_train_labels.csv\"))\ndetailed_class_info = pd.read_csv(os.path.join(DATA_DIR, \"rsna-pneumonia-detection-challenge/stage_1_detailed_class_info.csv\"))\ndetailed_class_info = detailed_class_info.drop_duplicates()",
      "execution_count": null,
      "outputs": []
    },
    {
      "metadata": {
        "trusted": true,
        "_uuid": "21ed332fc94fa014880a52a8c3d288874253570d"
      },
      "cell_type": "code",
      "source": "positives = detailed_class_info\npositives.head()",
      "execution_count": null,
      "outputs": []
    },
    {
      "metadata": {
        "trusted": true,
        "_uuid": "ef5ff8ffedbee2cb96b46990dba21d808c39ca56"
      },
      "cell_type": "code",
      "source": "cash_class = positives\ncash_class.head()",
      "execution_count": null,
      "outputs": []
    },
    {
      "metadata": {
        "trusted": true,
        "_uuid": "c6f69a4cd9cb6c0974bf4575d26687aa1cf4d0aa"
      },
      "cell_type": "code",
      "source": "positives = positives.merge(bbox_info, on=\"patientId\")\npositives = positives[[\"patientId\", \"x\", \"y\", \"width\", \"height\"]]\npositives = positives.merge(cash_class, on=\"patientId\")",
      "execution_count": null,
      "outputs": []
    },
    {
      "metadata": {
        "trusted": true,
        "_uuid": "b5846286c6bf38a3943056791074f51c5f4946da"
      },
      "cell_type": "code",
      "source": "#positives[positives[\"class\"]=='No Lung Opacity / Not Normal']\n\n#positives[\"class\"] = np.where(positives[\"class\"]=='No Lung Opacity / Not Normal', 'Normal','')\n\n\nconditions = [\n         positives[\"class\"]=='No Lung Opacity / Not Normal',\n         positives[\"class\"]=='Normal',\n         positives[\"class\"]=='Lung Opacity'\n             ]\nchoices = ['','','Lung Opacity']\npositives[\"class\"] = np.select(conditions, choices)\npositives.head()",
      "execution_count": null,
      "outputs": []
    },
    {
      "metadata": {
        "trusted": true,
        "_uuid": "5b0662ffd586c5722271b64e56aa828e08b54c0d"
      },
      "cell_type": "code",
      "source": "\npositives[\"patientId\"] = [os.path.join(train_pngs_dir, \"{}.png\".format(_)) for _ in positives.patientId]\npositives[\"x1\"] = positives[\"x\"] \npositives[\"y1\"] = positives[\"y\"] \npositives[\"x2\"] = positives[\"x\"] + positives[\"width\"]\npositives[\"y2\"] = positives[\"y\"] + positives[\"height\"]\npositives[\"Target\"] = positives[\"class\"]\ndel positives[\"x\"], positives[\"y\"], positives[\"width\"], positives[\"height\"]",
      "execution_count": null,
      "outputs": []
    },
    {
      "metadata": {
        "trusted": true,
        "_uuid": "ce2141b419841987a95060d45f00426e6e9f6869"
      },
      "cell_type": "code",
      "source": "del positives['class']",
      "execution_count": null,
      "outputs": []
    },
    {
      "metadata": {
        "trusted": true,
        "_uuid": "491d112490feec4aada2cd07c78562f0ed327ade"
      },
      "cell_type": "code",
      "source": "positives.head()",
      "execution_count": null,
      "outputs": []
    },
    {
      "metadata": {
        "trusted": true,
        "_uuid": "b7f7379693445579fad252961f561ce8def64729"
      },
      "cell_type": "code",
      "source": "annotations = positives",
      "execution_count": null,
      "outputs": []
    },
    {
      "metadata": {
        "trusted": true,
        "_uuid": "a0aeeddc4ab1bf4a4a8bfbd2c5f69a3e0c5ce0d8"
      },
      "cell_type": "code",
      "source": "annotations = annotations.fillna(88888)\nannotations[\"x1\"] = annotations.x1.astype(\"int32\").astype(\"str\") \nannotations[\"y1\"] = annotations.y1.astype(\"int32\").astype(\"str\") \nannotations[\"x2\"] = annotations.x2.astype(\"int32\").astype(\"str\") \nannotations[\"y2\"] = annotations.y2.astype(\"int32\").astype(\"str\")\nannotations = annotations.replace({\"88888\": \"\"}) \nannotations = annotations[[\"patientId\", \"x1\", \"y1\", \"x2\", \"y2\", \"Target\"]]\nannotations.to_csv(os.path.join(ROOT_DIR, \"annotations.csv\"), index=False, header=False)",
      "execution_count": null,
      "outputs": []
    },
    {
      "metadata": {
        "trusted": true,
        "_uuid": "e82e77a4cbb2bfcc3b0d53df2bb0bf9a14ac16ea"
      },
      "cell_type": "code",
      "source": "annotations.head()",
      "execution_count": null,
      "outputs": []
    },
    {
      "metadata": {
        "trusted": true,
        "_uuid": "ad86e704479171f5a7c35b09a2c2ac262d7dec0b"
      },
      "cell_type": "code",
      "source": "classes_file = pd.DataFrame({\"class\": [\"Lung Opacity\"], \"id\": [0]}) \nclasses_file.to_csv(os.path.join(ROOT_DIR, \"classes.csv\"), index=False, header=False)",
      "execution_count": null,
      "outputs": []
    },
    {
      "metadata": {
        "trusted": true,
        "_uuid": "6b139214f9396180033c0ae129d00c91358c069e"
      },
      "cell_type": "code",
      "source": "classes_file.head()",
      "execution_count": null,
      "outputs": []
    },
    {
      "metadata": {
        "trusted": true,
        "_uuid": "989faddddf14509422ced22ae90fcb34aa2bee10"
      },
      "cell_type": "code",
      "source": "annotations.shape",
      "execution_count": null,
      "outputs": []
    },
    {
      "metadata": {
        "trusted": true,
        "_uuid": "25d776ee6cf1b6eb611a5ce78a19fda5fae4eb37"
      },
      "cell_type": "code",
      "source": "!python /kaggle/working/keras-retinanet/keras_retinanet/bin/train.py --backbone \"resnet50\" --image-min-side 608 --image-max-side 608 --batch-size 8  --epochs 1 --steps 3623 --no-snapshots csv /kaggle/working/annotations.csv /kaggle/working/classes.csv",
      "execution_count": null,
      "outputs": []
    },
    {
      "metadata": {
        "trusted": true,
        "_uuid": "58eaa6a79f5b5cb5fb9f3397295624a0bcd45c23"
      },
      "cell_type": "code",
      "source": "model.save(\"model.h5\")",
      "execution_count": null,
      "outputs": []
    },
    {
      "metadata": {
        "trusted": true,
        "_uuid": "f9acfdf61cfc5ed464da6134722b21a9fd732038"
      },
      "cell_type": "code",
      "source": "!python /kaggle/working/keras-retinanet/keras_retinanet/bin/convert_model.py /kaggle/working/keras-retinanet/snapshots/resnet50_csv_1.h5 /kaggle/working/keras-retinanet/converted_model.h5 ",
      "execution_count": null,
      "outputs": []
    },
    {
      "metadata": {
        "trusted": true,
        "_uuid": "4f6d715953a5898aab248bce8d12560fbd971e97"
      },
      "cell_type": "code",
      "source": "from keras_retinanet.models import load_model \nretinanet = load_model(os.path.join(ROOT_DIR, \"keras-retinanet/converted_model.h5\"), \n                       backbone_name=\"resnet50\")",
      "execution_count": null,
      "outputs": []
    },
    {
      "metadata": {
        "trusted": true,
        "_uuid": "eef155ff09f05f9f67d3540ceefde2ced66fa3af"
      },
      "cell_type": "code",
      "source": "def preprocess_input(x):\n    x = x.astype(\"float32\")\n    x[..., 0] -= 103.939\n    x[..., 1] -= 116.779\n    x[..., 2] -= 123.680\n    return x",
      "execution_count": null,
      "outputs": []
    },
    {
      "metadata": {
        "trusted": true,
        "_uuid": "8e3b6154b409f957691bf56b565850e0cd220c94"
      },
      "cell_type": "code",
      "source": "test_dicoms = glob.glob(os.path.join(test_dicoms_dir, \"*.dcm\"))\ntest_patient_ids = [_.split(\"/\")[-1].split(\".\")[0] for _ in test_dicoms]\ntest_predictions = [] \nfor i, dcm_file in enumerate(test_dicoms): \n    sys.stdout.write(\"Predicting images: {}/{} ...\\r\".format(i+1, len(test_dicoms)))\n    sys.stdout.flush() \n    # Load DICOM and extract pixel array \n    dcm = pydicom.read_file(dcm_file)\n    arr = dcm.pixel_array\n    # Make 3-channel image\n    img = np.zeros((arr.shape[0], arr.shape[1], 3))\n    for channel in range(img.shape[-1]):\n        img[..., channel] = arr \n    # Resize \n    # Change image size if necessary!\n    scale_factor = 256. / img.shape[0]\n    img = zoom(img, [scale_factor, scale_factor, 1], order=1, prefilter=False)\n    # Preprocess with ImageNet mean subtraction\n    img = preprocess_input(img) \n    prediction = retinanet.predict_on_batch(np.expand_dims(img, axis=0))\n    test_predictions.append(prediction) ",
      "execution_count": null,
      "outputs": []
    },
    {
      "metadata": {
        "trusted": true,
        "_uuid": "e97e0dd9a6ef562ef9d5619da7fba99256fc2bcb"
      },
      "cell_type": "code",
      "source": "test_pred_df = pd.DataFrame() \nfor i, pred in enumerate(test_predictions):\n    # Take top 5 \n    # Should already be sorted in descending order by score\n    bboxes = pred[0][0][:5]\n    scores = pred[1][0][:5]\n    # -1 will be predicted if nothing is detected\n    detected = scores > -1 \n    if np.sum(detected) == 0: \n        continue\n    else:\n        bboxes = bboxes[detected]\n        bboxes = [box / scale_factor for box in bboxes]\n        scores = scores[detected]\n    individual_pred_df = pd.DataFrame() \n    for j, each_box in enumerate(bboxes): \n        # RetinaNet output is [x1, y1, x2, y2] \n        tmp_df = pd.DataFrame({\"patientId\": [test_patient_ids[i]], \n                               \"x\": [each_box[0]],  \n                               \"y\": [each_box[1]], \n                               \"w\": [each_box[2]-each_box[0]],\n                               \"h\": [each_box[3]-each_box[1]],\n                               \"score\": [scores[j]]})\n        individual_pred_df = individual_pred_df.append(tmp_df) \n    test_pred_df = test_pred_df.append(individual_pred_df) \n\ntest_pred_df.head()\n",
      "execution_count": null,
      "outputs": []
    },
    {
      "metadata": {
        "trusted": true,
        "_uuid": "ac6dd45f1f2f54e9314304db68062e68ed07a74a"
      },
      "cell_type": "code",
      "source": "threshold = 0.50\n\nlist_of_pids = [] \nlist_of_preds = [] \nfor pid in np.unique(test_pred_df.patientId): \n    tmp_df = test_pred_df[test_pred_df.patientId == pid]\n    tmp_df = tmp_df[tmp_df.score >= threshold]\n    # Skip if empty\n    if len(tmp_df) == 0:\n        continue\n    predictionString = \" \".join([\"{} {} {} {} {}\".format(row.score, row.x, row.y, row.w, row.h) for rownum, row in tmp_df.iterrows()])\n    list_of_preds.append(predictionString)\n    list_of_pids.append(pid) \n\npositives = pd.DataFrame({\"patientId\": list_of_pids, \n                          \"PredictionString\": list_of_preds}) \n\nnegatives = pd.DataFrame({\"patientId\": list(set(test_patient_ids) - set(list_of_pids)), \n                          \"PredictionString\": [\"\"] * (len(test_patient_ids)-len(list_of_pids))})\n\nsubmission = positives.append(negatives)",
      "execution_count": null,
      "outputs": []
    },
    {
      "metadata": {
        "trusted": true,
        "_uuid": "b66107ad595a70b4b9750725610a99303dfc9432"
      },
      "cell_type": "code",
      "source": "def create_download_link(df, title = \"Download CSV file\", filename = \"RSNA_DataSet.csv\"):  \n    csv = df.to_csv(index = 0)\n    b64 = base64.b64encode(csv.encode())\n    payload = b64.decode()\n    html = '<a download=\"{filename}\" href=\"data:text/csv;base64,{payload}\" target=\"_blank\">{title}</a>'\n    html = html.format(payload=payload,title=title,filename=filename)\n    return HTML(html)",
      "execution_count": null,
      "outputs": []
    },
    {
      "metadata": {
        "trusted": true,
        "_uuid": "c7a237fd45cb83652a8abd78e96bae40d33b0a9e"
      },
      "cell_type": "code",
      "source": "test_pred_df.head(100)",
      "execution_count": null,
      "outputs": []
    }
  ],
  "metadata": {
    "kernelspec": {
      "display_name": "Python 3",
      "language": "python",
      "name": "python3"
    },
    "language_info": {
      "name": "python",
      "version": "3.6.6",
      "mimetype": "text/x-python",
      "codemirror_mode": {
        "name": "ipython",
        "version": 3
      },
      "pygments_lexer": "ipython3",
      "nbconvert_exporter": "python",
      "file_extension": ".py"
    }
  },
  "nbformat": 4,
  "nbformat_minor": 1
}